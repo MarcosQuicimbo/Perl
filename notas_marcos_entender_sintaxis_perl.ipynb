{
 "cells": [
  {
   "cell_type": "markdown",
   "metadata": {},
   "source": [
    "# Notas para entender la sintaxis de perl"
   ]
  },
  {
   "cell_type": "markdown",
   "metadata": {},
   "source": [
    "comillas simples lo toma textual \\\n",
    "comillas dobles lo interpreta \n"
   ]
  },
  {
   "cell_type": "markdown",
   "metadata": {},
   "source": [
    "### Tipo booleano \n",
    "0 equivale a falso \\\n",
    "cadena vacia equivale a falso"
   ]
  },
  {
   "cell_type": "markdown",
   "metadata": {},
   "source": [
    "### Representacion de datos\n",
    "1. Variables escalares $\n",
    "2. Arreglos indexados escalares -> Listas @ con parentesis no corchetes\n",
    "3. Arreglos asociativos escalares (hash) %\n",
    "4. funcion o procedimiento &"
   ]
  },
  {
   "cell_type": "markdown",
   "metadata": {},
   "source": [
    "### Operaciones con los arreglos "
   ]
  },
  {
   "cell_type": "code",
   "execution_count": null,
   "metadata": {
    "vscode": {
     "languageId": "perl"
    }
   },
   "outputs": [],
   "source": []
  },
  {
   "cell_type": "code",
   "execution_count": null,
   "metadata": {
    "vscode": {
     "languageId": "perl"
    }
   },
   "outputs": [],
   "source": [
    "print dump (map{$_/ 10} -1 .. 3);\n",
    "#eqivalente a : \n",
    "[(i / 10) for i in range(-1, 4)]"
   ]
  },
  {
   "cell_type": "code",
   "execution_count": null,
   "metadata": {
    "vscode": {
     "languageId": "perl"
    }
   },
   "outputs": [],
   "source": [
    "## Desreferenciar \n",
    "$y = [1,3,5]; \n",
    "print $y => referencia a la lista -> imprimo la pos de memoria (creo) \\\n",
    "print @{$x} => desreferencio -> imprimo el contenido \\\n",
    "print dump zip ($x,$y) # referencias a listaas pueden ser varibles "
   ]
  },
  {
   "cell_type": "code",
   "execution_count": null,
   "metadata": {
    "vscode": {
     "languageId": "perl"
    }
   },
   "outputs": [],
   "source": [
    "my @lista3 = map {$_-> [0], $_->[1]} zip ($x, $y); \\\n",
    "\\# la funcion map desarma las agrupaciones \\\n",
    "print dump @lista3;"
   ]
  },
  {
   "cell_type": "markdown",
   "metadata": {},
   "source": [
    "(0 .. 5)"
   ]
  },
  {
   "cell_type": "markdown",
   "metadata": {},
   "source": [
    "## Arreglos"
   ]
  },
  {
   "cell_type": "code",
   "execution_count": null,
   "metadata": {
    "vscode": {
     "languageId": "perl"
    }
   },
   "outputs": [],
   "source": [
    "my @arreglos = ();\n"
   ]
  },
  {
   "cell_type": "code",
   "execution_count": null,
   "metadata": {
    "vscode": {
     "languageId": "perl"
    }
   },
   "outputs": [],
   "source": [
    "print $foo[-1] # imprime el ultimo elemento del array "
   ]
  },
  {
   "cell_type": "markdown",
   "metadata": {},
   "source": []
  },
  {
   "cell_type": "code",
   "execution_count": null,
   "metadata": {
    "vscode": {
     "languageId": "perl"
    }
   },
   "outputs": [],
   "source": [
    "## Bucle for\n",
    "# imprimir el arreglo \n",
    "for (my $i = 0; $i < @arreglo3; $i++){\n",
    "    print $i, \"\\t\", $arreglo3[$i], \"\\n\"\n",
    "}"
   ]
  },
  {
   "cell_type": "code",
   "execution_count": null,
   "metadata": {
    "vscode": {
     "languageId": "perl"
    }
   },
   "outputs": [],
   "source": []
  }
 ],
 "metadata": {
  "kernelspec": {
   "display_name": "Python 3",
   "language": "python",
   "name": "python3"
  },
  "language_info": {
   "codemirror_mode": {
    "name": "ipython",
    "version": 3
   },
   "file_extension": ".py",
   "mimetype": "text/x-python",
   "name": "python",
   "nbconvert_exporter": "python",
   "pygments_lexer": "ipython3",
   "version": "3.12.1"
  }
 },
 "nbformat": 4,
 "nbformat_minor": 2
}
